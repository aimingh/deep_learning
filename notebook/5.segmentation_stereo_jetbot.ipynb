{
 "cells": [
  {
   "cell_type": "code",
   "execution_count": 1,
   "metadata": {},
   "outputs": [],
   "source": [
    "import jetson.inference\n",
    "import jetson.utils\n",
    "# import matplotlib.pyplot as plt\n",
    "import numpy as np\n",
    "\n",
    "from jetbot import Camera\n",
    "from jetbot import bgr8_to_jpeg\n",
    "import ipywidgets.widgets as widgets\n",
    "import traitlets\n",
    "import cv2"
   ]
  },
  {
   "cell_type": "code",
   "execution_count": 2,
   "metadata": {},
   "outputs": [],
   "source": [
    "class segmentationBuffers:\n",
    "    def __init__(self, net):\n",
    "        self.net = net\n",
    "        self.mask = None\n",
    "        self.overlay = None\n",
    "        self.composite = None\n",
    "        self.class_mask = None\n",
    "        \n",
    "        self.use_stats = True\n",
    "        self.use_mask = True\n",
    "        self.use_overlay = True\n",
    "        self.use_composite = self.use_mask and self.use_overlay\n",
    "        \n",
    "        if not self.use_overlay and not self.use_mask:\n",
    "            raise Exception(\"invalid visualize flags - valid values are 'overlay' 'mask' 'overlay,mask'\")\n",
    "             \n",
    "        self.grid_width, self.grid_height = net.GetGridSize()\t\n",
    "        self.num_classes = net.GetNumClasses()\n",
    "\n",
    "    @property\n",
    "    def output(self):\n",
    "        if self.use_overlay and self.use_mask:\n",
    "            return self.composite\n",
    "        elif self.use_overlay:\n",
    "            return self.overlay\n",
    "        elif self.use_mask:\n",
    "            return self.mask\n",
    "            \n",
    "    def Alloc(self, shape, format):\n",
    "        if self.overlay is not None and self.overlay.height == shape[0] and self.overlay.width == shape[1]:\n",
    "            return\n",
    "\n",
    "        if self.use_overlay:\n",
    "            self.overlay = jetson.utils.cudaAllocMapped(width=shape[1], height=shape[0], format=format)\n",
    "\n",
    "        if self.use_mask:\n",
    "            mask_downsample = 2 if self.use_overlay else 1\n",
    "            self.mask = jetson.utils.cudaAllocMapped(width=shape[1]/mask_downsample, height=shape[0]/mask_downsample, format=format) \n",
    "\n",
    "        if self.use_composite:\n",
    "            self.composite = jetson.utils.cudaAllocMapped(width=self.overlay.width+self.mask.width, height=self.overlay.height, format=format) \n",
    "\n",
    "        if self.use_stats:\n",
    "            self.class_mask = jetson.utils.cudaAllocMapped(width=self.grid_width, height=self.grid_height, format=\"gray8\")\n",
    "            self.class_mask_np = jetson.utils.cudaToNumpy(self.class_mask)\n",
    "            \n",
    "    def ComputeStats(self):\n",
    "        if not self.use_stats:\n",
    "            return\n",
    "            \n",
    "        # get the class mask (each pixel contains the classID for that grid cell)\n",
    "        self.net.Mask(self.class_mask, self.grid_width, self.grid_height)\n",
    "\n",
    "        # compute the number of times each class occurs in the mask\n",
    "        class_histogram, _ = np.histogram(self.class_mask_np, self.num_classes)\n",
    "\n",
    "        print('grid size:   {:d}x{:d}'.format(self.grid_width, self.grid_height))\n",
    "        print('num classes: {:d}'.format(self.num_classes))\n",
    "\n",
    "        print('-----------------------------------------')\n",
    "        print(' ID  class name        count     %')\n",
    "        print('-----------------------------------------')\n",
    "\n",
    "        for n in range(self.num_classes):\n",
    "            percentage = float(class_histogram[n]) / float(self.grid_width * self.grid_height)\n",
    "            print(' {:>2d}  {:<18s} {:>3d}   {:f}'.format(n, self.net.GetClassDesc(n), class_histogram[n], percentage)) "
   ]
  },
  {
   "cell_type": "code",
   "execution_count": 3,
   "metadata": {},
   "outputs": [],
   "source": [
    "model = \"fcn-resnet18-sun\"\n",
    "overlay_Alpha = 150\n",
    "filter_mode = \"point\" # \"linear\", choices=[\"point\", \"linear\"]\n",
    "ignore_class = \"toilet\""
   ]
  },
  {
   "cell_type": "code",
   "execution_count": 4,
   "metadata": {},
   "outputs": [],
   "source": [
    "net = jetson.inference.segNet(model)\n",
    "net.SetOverlayAlpha(overlay_Alpha)\n",
    "buffers = segmentationBuffers(net)"
   ]
  },
  {
   "cell_type": "code",
   "execution_count": 5,
   "metadata": {},
   "outputs": [
    {
     "data": {
      "text/plain": [
       "True"
      ]
     },
     "execution_count": 5,
     "metadata": {},
     "output_type": "execute_result"
    }
   ],
   "source": [
    "capture = cv2.VideoCapture(1)\n",
    "capture.set(cv2.CAP_PROP_FRAME_WIDTH, 640)  # width\n",
    "capture.set(cv2.CAP_PROP_FRAME_HEIGHT, 240) # height\n",
    "capture.set(cv2.CAP_PROP_FPS, 10)"
   ]
  },
  {
   "cell_type": "code",
   "execution_count": 6,
   "metadata": {},
   "outputs": [
    {
     "data": {
      "application/vnd.jupyter.widget-view+json": {
       "model_id": "16a4dab0e5a0456296e4cb13eb30d324",
       "version_major": 2,
       "version_minor": 0
      },
      "text/plain": [
       "HBox(children=(Image(value=b'', format='jpeg', height='240', width='320'), Image(value=b'', format='jpeg', hei…"
      ]
     },
     "metadata": {},
     "output_type": "display_data"
    }
   ],
   "source": [
    "image_ori = widgets.Image(format='jpeg', width=320, height=240)\n",
    "image_det = widgets.Image(format='jpeg', width=480, height=240)\n",
    "image_mask = widgets.Image(format='jpeg', width=320, height=240)\n",
    "image_floor = widgets.Image(format='jpeg', width=320, height=240)\n",
    "image_box = widgets.HBox([image_ori, image_det, image_mask, image_floor])\n",
    "display(image_box)"
   ]
  },
  {
   "cell_type": "code",
   "execution_count": 7,
   "metadata": {},
   "outputs": [
    {
     "name": "stdout",
     "output_type": "stream",
     "text": [
      "1960966\r"
     ]
    }
   ],
   "source": [
    "for _ in range(3000):\n",
    "    ret, img = capture.read()\n",
    "    image_ori.value = bgr8_to_jpeg(img[:,:320,:])\n",
    "    img = jetson.utils.cudaFromNumpy(img[:,:360,:])\n",
    "    buffers.Alloc(img.shape, img.format)\n",
    "    net.Process(img, ignore_class=ignore_class)\n",
    "    if buffers.overlay:\n",
    "        net.Overlay(buffers.overlay, filter_mode=filter_mode) \n",
    "    if buffers.mask:\n",
    "        net.Mask(buffers.mask, filter_mode=filter_mode)\n",
    "    if buffers.composite:\n",
    "        jetson.utils.cudaOverlay(buffers.overlay, buffers.composite, 0, 0)\n",
    "        jetson.utils.cudaOverlay(buffers.mask, buffers.composite, buffers.overlay.width, 0)\n",
    "\n",
    "    img_rander = jetson.utils.cudaToNumpy(buffers.output)\n",
    "    image_det.value = bgr8_to_jpeg(img_rander)\n",
    "    mask_rander = jetson.utils.cudaToNumpy(buffers.mask)\n",
    "    image_mask.value = bgr8_to_jpeg(mask_rander)\n",
    "    floor_rander = mask_rander.copy()\n",
    "    floor_rander[mask_rander[:,:,1]!=128] = 0\n",
    "    floor_rander[mask_rander[:,:,0]!=0] = 0\n",
    "    floor_rander[mask_rander[:,:,2]!=0] = 0\n",
    "    n = np.sum(floor_rander)\n",
    "    image_floor.value = bgr8_to_jpeg(floor_rander.reshape((120,180,3)))\n",
    "    print(n,end=\"\\r\")\n",
    "capture.release() "
   ]
  },
  {
   "cell_type": "code",
   "execution_count": 28,
   "metadata": {},
   "outputs": [],
   "source": [
    "capture.release() "
   ]
  }
 ],
 "metadata": {
  "kernelspec": {
   "display_name": "Python 3",
   "language": "python",
   "name": "python3"
  },
  "language_info": {
   "codemirror_mode": {
    "name": "ipython",
    "version": 3
   },
   "file_extension": ".py",
   "mimetype": "text/x-python",
   "name": "python",
   "nbconvert_exporter": "python",
   "pygments_lexer": "ipython3",
   "version": "3.6.9"
  }
 },
 "nbformat": 4,
 "nbformat_minor": 4
}
