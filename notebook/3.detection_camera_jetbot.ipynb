{
 "cells": [
  {
   "cell_type": "code",
   "execution_count": 1,
   "metadata": {},
   "outputs": [],
   "source": [
    "from jetbot import Camera\n",
    "from jetbot import bgr8_to_jpeg\n",
    "import ipywidgets.widgets as widgets\n",
    "import traitlets\n",
    "import numpy as np\n",
    "import jetson.inference\n",
    "import jetson.utils\n",
    "import matplotlib.pyplot as plt\n",
    "import cv2"
   ]
  },
  {
   "cell_type": "code",
   "execution_count": 2,
   "metadata": {},
   "outputs": [
    {
     "data": {
      "application/vnd.jupyter.widget-view+json": {
       "model_id": "56b0861ce3da4d5e9b5f0beb6f8d9368",
       "version_major": 2,
       "version_minor": 0
      },
      "text/plain": [
       "VBox(children=(Image(value=b'', format='jpeg', height='240', width='720'), Image(value=b'', format='jpeg', hei…"
      ]
     },
     "metadata": {},
     "output_type": "display_data"
    }
   ],
   "source": [
    "image_ori = widgets.Image(format='jpeg', width=720, height=240)\n",
    "image_det = widgets.Image(format='jpeg', width=720, height=240)\n",
    "image_box = widgets.VBox([image_ori, image_det])\n",
    "display(image_box)"
   ]
  },
  {
   "cell_type": "code",
   "execution_count": 3,
   "metadata": {},
   "outputs": [],
   "source": [
    "net = jetson.inference.detectNet(\"ssd-mobilenet-v2\")"
   ]
  },
  {
   "cell_type": "code",
   "execution_count": 12,
   "metadata": {},
   "outputs": [
    {
     "data": {
      "text/plain": [
       "True"
      ]
     },
     "execution_count": 12,
     "metadata": {},
     "output_type": "execute_result"
    }
   ],
   "source": [
    "capture = cv2.VideoCapture(1)\n",
    "capture.set(cv2.CAP_PROP_FRAME_WIDTH, 720)  # width\n",
    "capture.set(cv2.CAP_PROP_FRAME_HEIGHT, 240) # height"
   ]
  },
  {
   "cell_type": "code",
   "execution_count": 5,
   "metadata": {},
   "outputs": [],
   "source": [
    "ret, img = capture.read()\n",
    "image_ori.value = bgr8_to_jpeg(img)\n",
    "img = jetson.utils.cudaFromNumpy(img)\n",
    "detections = net.Detect(img, overlay=\"box,labels,conf\")\n",
    "img_rander = jetson.utils.cudaToNumpy(img)\n",
    "image_det.value = bgr8_to_jpeg(img_rander)\n",
    "capture.release() "
   ]
  },
  {
   "cell_type": "code",
   "execution_count": 13,
   "metadata": {},
   "outputs": [],
   "source": [
    "for _ in range(500):\n",
    "    ret, img = capture.read()\n",
    "    image_ori.value = bgr8_to_jpeg(img)\n",
    "    img = jetson.utils.cudaFromNumpy(img)\n",
    "    detections = net.Detect(img, overlay=\"box,labels,conf\")\n",
    "    img_rander = jetson.utils.cudaToNumpy(img)\n",
    "    image_det.value = bgr8_to_jpeg(img_rander)\n",
    "capture.release() "
   ]
  }
 ],
 "metadata": {
  "kernelspec": {
   "display_name": "Python 3",
   "language": "python",
   "name": "python3"
  },
  "language_info": {
   "codemirror_mode": {
    "name": "ipython",
    "version": 3
   },
   "file_extension": ".py",
   "mimetype": "text/x-python",
   "name": "python",
   "nbconvert_exporter": "python",
   "pygments_lexer": "ipython3",
   "version": "3.6.9"
  }
 },
 "nbformat": 4,
 "nbformat_minor": 4
}
